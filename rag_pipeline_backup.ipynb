def save_pipeline(qa_chain, save_path):
    """Save pipeline with proper error handling"""
    try:
        with open(save_path, "wb") as f:
            pickle.dump(qa_chain, f, protocol=pickle.HIGHEST_PROTOCOL)
        print(f"Successfully saved pipeline to {save_path}")
        # Verify the file was saved properly
        file_size = os.path.getsize(save_path)
        print(f"File size: {file_size} bytes")
        return True
    except Exception as e:
        print(f"Error saving pipeline: {str(e)}")
        # Remove potentially corrupted file
        if os.path.exists(save_path):
            os.remove(save_path)
        return False

# Usage:
pipeline_path = "artifacts/qa_chain.pkl"
if save_pipeline(qa_chain, pipeline_path):
    print("Pipeline saved successfully!")
else:
    print("Failed to save pipeline - check error messages above")
